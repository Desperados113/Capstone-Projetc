{
    "cells": [
        {
            "cell_type": "markdown",
            "metadata": {
                "collapsed": true
            },
            "source": "# Introduction"
        },
        {
            "cell_type": "markdown",
            "metadata": {},
            "source": "#### Quebec, the Canadian province, is receiving yearly more than 40 000 new residents, and more than 70% of them (approximately 28 000) choose to stay in Montreal region.\n\n#### The main reason for these immigrants is that Montreal, as a big and multicultural city, is considered a very good starting point, especially for people who don't know yet where the want to settle permanently.\n\n#### One of the biggest preoccupations for the new immigrants is to minimize their spending while finding a job during their first 2-3 months, specially, the rent and the transportation bills. Any apartment with a lower cost of rent isn\u2019t the ideal solution, but there must be a compromise between the rent and the proximity of the services related to the chosen apartment.\n\n#### Depending on their budgets, their profiles (individual, couple or family), thus, their needs, deciding on the installation area could easily become a headache for the new immigrants, and the objective of this project is to help them decide in witch neighborhood of Montreal they should settle in, according to their budget for the rent and the services they need to be close to them."
        },
        {
            "cell_type": "markdown",
            "metadata": {},
            "source": "# Data description\n\n#### To help giving a solution to the problem, below the data we will be using:\n    - Rental price by borough of Montreal city, found at the Open-Data Portal of the city of Montreal (official reference in French) \n    - Geolocation of the boroughs of the city of Montreal, found at the Open-Data Portal of the Quebec government\n    - Foursquare to get the most common venues of given boroughs of Montreal\n"
        }
    ],
    "metadata": {
        "kernelspec": {
            "display_name": "Python 3.6",
            "language": "python",
            "name": "python3"
        },
        "language_info": {
            "codemirror_mode": {
                "name": "ipython",
                "version": 3
            },
            "file_extension": ".py",
            "mimetype": "text/x-python",
            "name": "python",
            "nbconvert_exporter": "python",
            "pygments_lexer": "ipython3",
            "version": "3.6.9"
        }
    },
    "nbformat": 4,
    "nbformat_minor": 1
}